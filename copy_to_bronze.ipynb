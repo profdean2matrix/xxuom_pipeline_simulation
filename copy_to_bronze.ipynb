# copy_to_bronze.ipynb
from pyspark.sql import SparkSession

# Create a Spark session
spark = SparkSession.builder.appName("CopyToBronze").getOrCreate()

# Load source CSV data
source_path = "UOM_GAPS_XXUOM_TASKS.csv"
df_source = spark.read.option("header", True).csv(source_path)

# Basic preview
df_source.show(5)
df_source.printSchema()

# Write to Bronze Lakehouse (simulate by saving to local path or Azure storage mount)
bronze_path = "bronze_lakehouse/CRM_UOM_TASKS"
df_source.write.mode("overwrite").parquet(bronze_path)

print("✅ Data successfully written to Bronze layer.")